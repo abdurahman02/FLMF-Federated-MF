{
  "nbformat": 4,
  "nbformat_minor": 0,
  "metadata": {
    "colab": {
      "name": "Test_results_FLMF_Baseline.ipynb",
      "provenance": []
    },
    "kernelspec": {
      "name": "python3",
      "display_name": "Python 3"
    },
    "language_info": {
      "name": "python"
    },
    "accelerator": "GPU"
  },
  "cells": [
    {
      "cell_type": "code",
      "execution_count": 36,
      "metadata": {
        "id": "O7hmKYDxPDsi"
      },
      "outputs": [],
      "source": [
        "import matplotlib.pyplot as plt\n",
        "from pathlib import Path\n",
        "import pandas as pd\n",
        "import numpy as np\n",
        "import os\n",
        "import copy\n",
        "import time\n",
        "import string\n",
        "import shutil"
      ]
    },
    {
      "cell_type": "code",
      "source": [
        "os.chdir(\"/content/\")\n",
        "shutil.rmtree(\"/content/FLMF_res\")\n",
        "os.listdir()"
      ],
      "metadata": {
        "colab": {
          "base_uri": "https://localhost:8080/"
        },
        "id": "B7j0EoNpeZCW",
        "outputId": "99733638-9152-4ff6-a3a8-62013f02c4cd"
      },
      "execution_count": 57,
      "outputs": [
        {
          "output_type": "execute_result",
          "data": {
            "text/plain": [
              "['.config', '.ipynb_checkpoints', 'sample_data']"
            ]
          },
          "metadata": {},
          "execution_count": 57
        }
      ]
    },
    {
      "cell_type": "code",
      "source": [
        "!git clone \"https://github.com/abdurahman02/FLMF_res.git\"\n",
        "os.chdir(\"FLMF_res\")\n",
        "os.listdir()"
      ],
      "metadata": {
        "colab": {
          "base_uri": "https://localhost:8080/"
        },
        "id": "pPhK3_Y_eGe4",
        "outputId": "60bf6e60-7a2a-441a-f4e5-ea109857bd04"
      },
      "execution_count": 58,
      "outputs": [
        {
          "output_type": "stream",
          "name": "stdout",
          "text": [
            "Cloning into 'FLMF_res'...\n",
            "remote: Enumerating objects: 40, done.\u001b[K\n",
            "remote: Counting objects: 100% (40/40), done.\u001b[K\n",
            "remote: Compressing objects: 100% (36/36), done.\u001b[K\n",
            "remote: Total 40 (delta 10), reused 3 (delta 0), pack-reused 0\u001b[K\n",
            "Unpacking objects: 100% (40/40), done.\n"
          ]
        },
        {
          "output_type": "execute_result",
          "data": {
            "text/plain": [
              "['results06.csv',\n",
              " 'results03.csv',\n",
              " '.git',\n",
              " 'results01.csv',\n",
              " 'results07.csv',\n",
              " 'results02.csv',\n",
              " 'Test_results_FLMF03_Running.ipynb',\n",
              " 'results08.csv',\n",
              " 'results09.csv',\n",
              " 'results05.csv',\n",
              " 'results04.csv']"
            ]
          },
          "metadata": {},
          "execution_count": 58
        }
      ]
    },
    {
      "cell_type": "code",
      "source": [
        "#01 is basic setting\n",
        "data_results= pd.read_csv(\"results01.csv\")\n",
        "print(\"BaseLine_FedMF\")\n",
        "print(data_results)\n",
        "plt.xlabel('number of rounds')\n",
        "plt.ylabel('RMSE Loss')\n",
        "# print(\"total users: \", abs(num_users))\n",
        "# print(\"total items: \", abs(num_items))\n",
        "# print(\"Embedding size: \",emb_size=100)\n",
        "# print(\"local epochs: \", epochs=1)\n",
        "for x in data_results:\n",
        "    print(x)\n",
        "plt.plot(np.arange(start=1, stop=len(data_results[\" Test_Loss\"].values)+1, step=1), data_results[\" Test_Loss\"].values, 'g--')\n",
        "plt.plot(np.arange(start=1, stop=len(data_results[\" Mean_Train_Loss\"].values)+1, step=1), data_results[\" Mean_Train_Loss\"].values, 'b--')\n",
        "plt.legend([\"Test Loss\", \"Training loss\"])\n"
      ],
      "metadata": {
        "id": "wvO6Bu_QR65D",
        "colab": {
          "base_uri": "https://localhost:8080/",
          "height": 922
        },
        "outputId": "44929fb8-a558-4afe-9f81-cbf93262cf0e"
      },
      "execution_count": 59,
      "outputs": [
        {
          "output_type": "stream",
          "name": "stdout",
          "text": [
            "BaseLine_FedMF\n",
            "    round   Mean_Train_Loss   Test_Loss   \n",
            "0       0         14.081256   10.685031   \n",
            "1       1         11.444420    7.812707   \n",
            "2       2          8.037327    5.137311   \n",
            "3       3          4.972792    3.401466   \n",
            "4       4          3.262361    2.401064   \n",
            "5       5          2.346426    1.887735   \n",
            "6       6          1.849721    1.622997   \n",
            "7       7          1.543564    1.483428   \n",
            "8       8          1.388541    1.357709   \n",
            "9       9          1.274538    1.261610   \n",
            "10     10          1.182187    1.230173   \n",
            "11     11          1.149189    1.203806   \n",
            "12     12          1.122070    1.182646   \n",
            "13     13          1.099649    1.164269   \n",
            "14     14          1.081091    1.150027   \n",
            "15     15          1.065564    1.138265   \n",
            "16     16          1.052241    1.129001   \n",
            "17     17          1.040606    1.119911   \n",
            "18     18          1.030208    1.112881   \n",
            "19     19          1.020687    1.105028   \n",
            "20     20          1.011810    1.098826   \n",
            "21     21          1.003461    1.091535   \n",
            "22     22          0.995414    1.085813   \n",
            "23     23          0.987704    1.078962   \n",
            "24     24          0.980153    1.073738   \n",
            "25     25          0.972828    1.067199   \n",
            "26     26          0.965668    1.062333   \n",
            "27     27          0.958700    1.056225   \n",
            "28     28          0.951840    1.051759   \n",
            "29     29          0.945202    1.045862   \n",
            "round\n",
            " Mean_Train_Loss\n",
            " Test_Loss\n",
            " \n"
          ]
        },
        {
          "output_type": "execute_result",
          "data": {
            "text/plain": [
              "<matplotlib.legend.Legend at 0x7f39efe5a450>"
            ]
          },
          "metadata": {},
          "execution_count": 59
        },
        {
          "output_type": "display_data",
          "data": {
            "image/png": "[encoded data removed]",
            "text/plain": [
              "<Figure size 432x288 with 1 Axes>"
            ]
          },
          "metadata": {
            "needs_background": "light"
          }
        }
      ]
    },
    {
      "cell_type": "code",
      "source": [
        "#02 change: 50 rounds\n",
        "data_results= pd.read_csv(\"results02.csv\")\n",
        "print(\"BaseLine_FedMF\")\n",
        "print(data_results)\n",
        "plt.xlabel('number of rounds')\n",
        "plt.ylabel('RMSE Loss')\n",
        "print(\"total users: \", abs(610))\n",
        "print(\"total items: \", abs(8998))\n",
        "print(\"Embedding size: \",100)\n",
        "# print(\"local epochs: \", epochs=1)\n",
        "for x in data_results:\n",
        "    print(x)\n",
        "plt.plot(np.arange(start=1, stop=len(data_results[\" Test_Loss\"].values)+1, step=1), data_results[\" Test_Loss\"].values, 'g--')\n",
        "plt.plot(np.arange(start=1, stop=len(data_results[\" Mean_Train_Loss\"].values)+1, step=1), data_results[\" Mean_Train_Loss\"].values, 'b--')\n",
        "plt.legend([\"Test Loss\", \"Training loss\"])\n"
      ],
      "metadata": {
        "id": "SkW2eE9NLZIP",
        "outputId": "249d1692-2c60-4beb-ad2f-5e12718d3ecd",
        "colab": {
          "base_uri": "https://localhost:8080/",
          "height": 1000
        }
      },
      "execution_count": 40,
      "outputs": [
        {
          "output_type": "stream",
          "name": "stdout",
          "text": [
            "BaseLine_FedMF\n",
            "    round   Mean_Train_Loss   Test_Loss   \n",
            "0       0         14.065690   10.672669   \n",
            "1       1         11.433578    7.791167   \n",
            "2       2          8.038780    5.108349   \n",
            "3       3          4.979501    3.362020   \n",
            "4       4          3.253170    2.360401   \n",
            "5       5          2.350829    1.898258   \n",
            "6       6          1.839612    1.625777   \n",
            "7       7          1.545651    1.474438   \n",
            "8       8          1.386451    1.337914   \n",
            "9       9          1.288616    1.264237   \n",
            "10     10          1.201202    1.227905   \n",
            "11     11          1.160312    1.197934   \n",
            "12     12          1.127990    1.174515   \n",
            "13     13          1.102845    1.155519   \n",
            "14     14          1.082491    1.140744   \n",
            "15     15          1.066022    1.128823   \n",
            "16     16          1.052450    1.119283   \n",
            "17     17          1.040699    1.110378   \n",
            "18     18          1.030190    1.102769   \n",
            "19     19          1.020505    1.095162   \n",
            "20     20          1.011460    1.088351   \n",
            "21     21          1.002953    1.081597   \n",
            "22     22          0.994785    1.075155   \n",
            "23     23          0.986905    1.069050   \n",
            "24     24          0.979268    1.063015   \n",
            "25     25          0.971866    1.057249   \n",
            "26     26          0.964687    1.051629   \n",
            "27     27          0.957677    1.046317   \n",
            "28     28          0.950855    1.041076   \n",
            "29     29          0.944178    1.036064   \n",
            "30     30          0.937623    1.031107   \n",
            "31     31          0.931224    1.026405   \n",
            "32     32          0.924930    1.021767   \n",
            "33     33          0.918766    1.017332   \n",
            "34     34          0.912725    1.012903   \n",
            "35     35          0.906778    1.008819   \n",
            "36     36          0.900976    1.004636   \n",
            "37     37          0.895252    1.000755   \n",
            "38     38          0.889684    0.996742   \n",
            "39     39          0.884174    0.993142   \n",
            "40     40          0.878801    0.989342   \n",
            "41     41          0.873453    0.985909   \n",
            "42     42          0.868265    0.982277   \n",
            "43     43          0.863099    0.978997   \n",
            "44     44          0.858052    0.975637   \n",
            "45     45          0.853070    0.972552   \n",
            "46     46          0.848189    0.969293   \n",
            "47     47          0.843351    0.966374   \n",
            "48     48          0.838604    0.963284   \n",
            "49     49          0.833929    0.960472   \n",
            "total users:  610\n",
            "total items:  8998\n",
            "Embedding size:  100\n",
            "round\n",
            " Mean_Train_Loss\n",
            " Test_Loss\n",
            " \n"
          ]
        },
        {
          "output_type": "execute_result",
          "data": {
            "text/plain": [
              "<matplotlib.legend.Legend at 0x7f39f07e5b50>"
            ]
          },
          "metadata": {},
          "execution_count": 40
        },
        {
          "output_type": "display_data",
          "data": {
            "image/png": "[encoded data removed]",
            "text/plain": [
              "<Figure size 432x288 with 1 Axes>"
            ]
          },
          "metadata": {
            "needs_background": "light"
          }
        }
      ]
    },
    {
      "cell_type": "code",
      "source": [
        "#03 change: epochs: 5\n",
        "data_results= pd.read_csv(\"results03.csv\")\n",
        "print(\"BaseLine_FedMF\")\n",
        "print(data_results)\n",
        "plt.xlabel('number of rounds')\n",
        "plt.ylabel('RMSE Loss')\n",
        "print(\"total users: \", abs(610))\n",
        "print(\"total items: \", abs(8998))\n",
        "print(\"Embedding size: \",100)\n",
        "print(('number of rounds ',10,\"(lr=0.1) \",20,\"(lr=0.01)\"))\n",
        "print(\"Average round time: \", 3, \"sec\")\n",
        "print(\"local epochs: \", 5)\n",
        "for x in data_results:\n",
        "    print(x)\n",
        "plt.plot(np.arange(start=1, stop=len(data_results[\" Test_Loss\"].values)+1, step=1), data_results[\" Test_Loss\"].values, 'g--')\n",
        "plt.plot(np.arange(start=1, stop=len(data_results[\" Mean_Train_Loss\"].values)+1, step=1), data_results[\" Mean_Train_Loss\"].values, 'b--')\n",
        "plt.legend([\"Test Loss\", \"Training loss\"])\n"
      ],
      "metadata": {
        "id": "H4lC7RUTLfpQ",
        "colab": {
          "base_uri": "https://localhost:8080/",
          "height": 1000
        },
        "outputId": "47c1273b-de21-465c-b6e4-65ba82fcc6d7"
      },
      "execution_count": 41,
      "outputs": [
        {
          "output_type": "stream",
          "name": "stdout",
          "text": [
            "BaseLine_FedMF\n",
            "    round   Mean_Train_Loss   Test_Loss   \n",
            "0       0          5.225013    9.531079   \n",
            "1       1          4.026115    8.746439   \n",
            "2       2          3.354689    8.548335   \n",
            "3       3          3.262987    8.219398   \n",
            "4       4          3.082638    7.969160   \n",
            "5       5          2.952378    7.712799   \n",
            "6       6          2.830745    7.473512   \n",
            "7       7          2.731514    7.237239   \n",
            "8       8          2.647788    7.011952   \n",
            "9       9          2.575917    6.796289   \n",
            "10     10          4.446174    5.040176   \n",
            "11     11          2.830787    3.745099   \n",
            "12     12          1.882110    2.924475   \n",
            "13     13          1.375809    2.442425   \n",
            "14     14          1.100966    2.177335   \n",
            "15     15          0.945994    2.029771   \n",
            "16     16          0.851706    1.932249   \n",
            "17     17          0.786502    1.849209   \n",
            "18     18          0.735508    1.775383   \n",
            "19     19          0.692899    1.711039   \n",
            "20     20          0.656791    1.653604   \n",
            "21     21          0.625573    1.602537   \n",
            "22     22          0.598316    1.556407   \n",
            "23     23          0.574424    1.514977   \n",
            "24     24          0.553107    1.476695   \n",
            "25     25          0.533911    1.442203   \n",
            "26     26          0.516528    1.410227   \n",
            "27     27          0.500670    1.381053   \n",
            "28     28          0.486211    1.353732   \n",
            "29     29          0.472984    1.328604   \n",
            "total users:  610\n",
            "total items:  8998\n",
            "Embedding size:  100\n",
            "('number of rounds ', 10, '(lr=0.1) ', 20, '(lr=0.01)')\n",
            "Average round time:  3 sec\n",
            "local epochs:  5\n",
            "round\n",
            " Mean_Train_Loss\n",
            " Test_Loss\n",
            " \n"
          ]
        },
        {
          "output_type": "execute_result",
          "data": {
            "text/plain": [
              "<matplotlib.legend.Legend at 0x7f39f01d0510>"
            ]
          },
          "metadata": {},
          "execution_count": 41
        },
        {
          "output_type": "display_data",
          "data": {
            "image/png": "[encoded data removed]",
            "text/plain": [
              "<Figure size 432x288 with 1 Axes>"
            ]
          },
          "metadata": {
            "needs_background": "light"
          }
        }
      ]
    },
    {
      "cell_type": "code",
      "source": [
        "#03 change: epochs: 10\n",
        "data_results= pd.read_csv(\"results04.csv\")\n",
        "print(\"BaseLine_FedMF\")\n",
        "print(data_results)\n",
        "plt.xlabel('number of rounds')\n",
        "plt.ylabel('RMSE Loss')\n",
        "print(\"total users: \", abs(610))\n",
        "print(\"total items: \", abs(8998))\n",
        "print(\"Embedding size: \",100)\n",
        "print(('number of rounds ',10,\"(lr=0.1) \",20,\"(lr=0.01)\"))\n",
        "print(\"Average round time: \", 6, \"sec\")\n",
        "print(\"local epochs: \", 10)\n",
        "for x in data_results:\n",
        "    print(x)\n",
        "plt.plot(np.arange(start=1, stop=len(data_results[\" Test_Loss\"].values)+1, step=1), data_results[\" Test_Loss\"].values, 'g--')\n",
        "plt.plot(np.arange(start=1, stop=len(data_results[\" Mean_Train_Loss\"].values)+1, step=1), data_results[\" Mean_Train_Loss\"].values, 'b--')\n",
        "plt.legend([\"Test Loss\", \"Training loss\"])\n"
      ],
      "metadata": {
        "id": "YUHKyD-hMBBC",
        "colab": {
          "base_uri": "https://localhost:8080/",
          "height": 1000
        },
        "outputId": "ece80d81-0e73-4e0b-e08e-c8c903c7ce38"
      },
      "execution_count": 42,
      "outputs": [
        {
          "output_type": "stream",
          "name": "stdout",
          "text": [
            "BaseLine_FedMF\n",
            "    round   Mean_Train_Loss   Test_Loss   \n",
            "0       0          3.433627    8.586432   \n",
            "1       1          2.362121    6.920795   \n",
            "2       2          1.895369    6.720307   \n",
            "3       3          1.865223    6.528092   \n",
            "4       4          1.827738    6.354706   \n",
            "5       5          1.799660    6.062239   \n",
            "6       6          1.751234    5.933803   \n",
            "7       7          1.736794    5.722910   \n",
            "8       8          1.716090    5.589173   \n",
            "9       9          1.699315    5.377703   \n",
            "10     10          2.033191    3.241961   \n",
            "11     11          1.043495    2.666137   \n",
            "12     12          0.796148    2.486060   \n",
            "13     13          0.692784    2.327899   \n",
            "14     14          0.618799    2.201531   \n",
            "15     15          0.562304    2.094109   \n",
            "16     16          0.518190    2.002576   \n",
            "17     17          0.482821    1.923291   \n",
            "18     18          0.454076    1.854378   \n",
            "19     19          0.430284    1.794011   \n",
            "20     20          0.410239    1.740424   \n",
            "21     21          0.393140    1.692720   \n",
            "22     22          0.378370    1.649742   \n",
            "23     23          0.365484    1.610737   \n",
            "24     24          0.354153    1.575445   \n",
            "25     25          0.344077    1.543075   \n",
            "26     26          0.335091    1.513751   \n",
            "27     27          0.327004    1.486521   \n",
            "28     28          0.319652    1.461769   \n",
            "29     29          0.313003    1.438343   \n",
            "total users:  610\n",
            "total items:  8998\n",
            "Embedding size:  100\n",
            "('number of rounds ', 10, '(lr=0.1) ', 20, '(lr=0.01)')\n",
            "Average round time:  6 sec\n",
            "local epochs:  10\n",
            "round\n",
            " Mean_Train_Loss\n",
            " Test_Loss\n",
            " \n"
          ]
        },
        {
          "output_type": "execute_result",
          "data": {
            "text/plain": [
              "<matplotlib.legend.Legend at 0x7f39f014d710>"
            ]
          },
          "metadata": {},
          "execution_count": 42
        },
        {
          "output_type": "display_data",
          "data": {
            "image/png": "[encoded data removed]",
            "text/plain": [
              "<Figure size 432x288 with 1 Axes>"
            ]
          },
          "metadata": {
            "needs_background": "light"
          }
        }
      ]
    },
    {
      "cell_type": "code",
      "source": [
        "#05 change: epochs: 20\n",
        "data_results= pd.read_csv(\"results05.csv\")\n",
        "print(\"BaseLine_FedMF\")\n",
        "print(data_results)\n",
        "plt.xlabel('number of rounds')\n",
        "plt.ylabel('RMSE Loss')\n",
        "print(\"total users: \", abs(610))\n",
        "print(\"total items: \", abs(8998))\n",
        "print(\"Embedding size: \",100)\n",
        "print(('number of rounds ',10,\"(lr=0.1) \",20,\"(lr=0.01)\"))\n",
        "print(\"Average round time: \", 10, \"sec\")\n",
        "print(\"local epochs: \", 10)\n",
        "for x in data_results:\n",
        "    print(x)\n",
        "plt.plot(np.arange(start=1, stop=len(data_results[\" Test_Loss\"].values)+1, step=1), data_results[\" Test_Loss\"].values, 'g--')\n",
        "plt.plot(np.arange(start=1, stop=len(data_results[\" Mean_Train_Loss\"].values)+1, step=1), data_results[\" Mean_Train_Loss\"].values, 'b--')\n",
        "plt.legend([\"Test Loss\", \"Training loss\"])\n"
      ],
      "metadata": {
        "colab": {
          "base_uri": "https://localhost:8080/",
          "height": 1000
        },
        "id": "Zx9xkI95mumU",
        "outputId": "2f2a196e-3b33-4115-a464-f9947bf1381a"
      },
      "execution_count": 43,
      "outputs": [
        {
          "output_type": "stream",
          "name": "stdout",
          "text": [
            "BaseLine_FedMF\n",
            "    round   Mean_Train_Loss   Test_Loss   \n",
            "0       0          2.009707    9.164053   \n",
            "1       1          1.704550    7.881083   \n",
            "2       2          1.181118    7.987813   \n",
            "3       3          1.208840    7.834232   \n",
            "4       4          1.098132    7.848399   \n",
            "5       5          1.084178    7.877087   \n",
            "6       6          1.093778    7.772437   \n",
            "7       7          1.065674    7.848495   \n",
            "8       8          1.065080    7.628342   \n",
            "9       9          1.031834    7.655840   \n",
            "10     10          2.059345    4.319254   \n",
            "11     11          0.853262    3.399584   \n",
            "12     12          0.603688    2.993618   \n",
            "13     13          0.501024    2.748313   \n",
            "14     14          0.441376    2.576245   \n",
            "15     15          0.401582    2.445340   \n",
            "16     16          0.372551    2.340446   \n",
            "17     17          0.350186    2.253508   \n",
            "18     18          0.332179    2.180172   \n",
            "19     19          0.317362    2.117048   \n",
            "20     20          0.304933    2.062116   \n",
            "21     21          0.294226    2.014146   \n",
            "22     22          0.284969    1.971405   \n",
            "23     23          0.276889    1.933681   \n",
            "24     24          0.269643    1.899216   \n",
            "25     25          0.263177    1.868553   \n",
            "26     26          0.257371    1.839658   \n",
            "27     27          0.252193    1.814519   \n",
            "28     28          0.247422    1.790723   \n",
            "29     29          0.243073    1.768817   \n",
            "total users:  610\n",
            "total items:  8998\n",
            "Embedding size:  100\n",
            "('number of rounds ', 10, '(lr=0.1) ', 20, '(lr=0.01)')\n",
            "Average round time:  10 sec\n",
            "local epochs:  10\n",
            "round\n",
            " Mean_Train_Loss\n",
            " Test_Loss\n",
            " \n"
          ]
        },
        {
          "output_type": "execute_result",
          "data": {
            "text/plain": [
              "<matplotlib.legend.Legend at 0x7f39f00ca050>"
            ]
          },
          "metadata": {},
          "execution_count": 43
        },
        {
          "output_type": "display_data",
          "data": {
            "image/png": "[encoded data removed]",
            "text/plain": [
              "<Figure size 432x288 with 1 Axes>"
            ]
          },
          "metadata": {
            "needs_background": "light"
          }
        }
      ]
    },
    {
      "cell_type": "code",
      "source": [
        "609//2"
      ],
      "metadata": {
        "colab": {
          "base_uri": "https://localhost:8080/"
        },
        "id": "OvVP3k3an24S",
        "outputId": "afc6e9dd-b1c1-4927-89ae-62f11420c960"
      },
      "execution_count": 44,
      "outputs": [
        {
          "output_type": "execute_result",
          "data": {
            "text/plain": [
              "304"
            ]
          },
          "metadata": {},
          "execution_count": 44
        }
      ]
    },
    {
      "cell_type": "markdown",
      "source": [
        "## Testing with diff number of participants"
      ],
      "metadata": {
        "id": "EBqZy12n2gqB"
      }
    },
    {
      "cell_type": "code",
      "source": [
        "#06 change: participants: 500/610\n",
        "\n",
        "data_results= pd.read_csv(\"results06.csv\")\n",
        "print(\"BaseLine_FedMF\")\n",
        "print(data_results)\n",
        "plt.xlabel('number of rounds')\n",
        "plt.ylabel('RMSE Loss')\n",
        "\n",
        "print(\"total users: \", abs(610))\n",
        "print(\"total items: \", abs(8998))\n",
        "print(\"Number of participants in each round: 500/610\")\n",
        "print(\"Embedding size: \",100)\n",
        "print(('number of rounds ',10,\"(lr=0.1) \",20,\"(lr=0.01)\"))\n",
        "print(\"Average round time: \", 10, \"sec\")\n",
        "print(\"local epochs: \", 10)\n",
        "for x in data_results:\n",
        "    print(x)\n",
        "plt.plot(np.arange(start=1, stop=len(data_results[\" Test_Loss\"].values)+1, step=1), data_results[\" Test_Loss\"].values, 'g--')\n",
        "plt.plot(np.arange(start=1, stop=len(data_results[\" Mean_Train_Loss\"].values)+1, step=1), data_results[\" Mean_Train_Loss\"].values, 'b--')\n",
        "plt.legend([\"Test Loss\", \"Training loss\"])\n"
      ],
      "metadata": {
        "colab": {
          "base_uri": "https://localhost:8080/",
          "height": 1000
        },
        "id": "Slx6zusf0z9_",
        "outputId": "7bf47ba6-34e9-4ad8-fcc3-6c75fb16b480"
      },
      "execution_count": 47,
      "outputs": [
        {
          "output_type": "stream",
          "name": "stdout",
          "text": [
            "BaseLine_FedMF\n",
            "    round   Mean_Train_Loss   Test_Loss   \n",
            "0       0         14.050943   11.239583   \n",
            "1       1         12.007036    9.045609   \n",
            "2       2          9.267346    6.749792   \n",
            "3       3          6.648512    4.757503   \n",
            "4       4          4.672805    3.571027   \n",
            "5       5          3.428846    2.769633   \n",
            "6       6          2.562475    2.241689   \n",
            "7       7          2.140190    1.871140   \n",
            "8       8          1.751369    1.669377   \n",
            "9       9          1.571894    1.529584   \n",
            "10     10          1.432963    1.494503   \n",
            "11     11          1.385970    1.465752   \n",
            "12     12          1.369096    1.437795   \n",
            "13     13          1.304031    1.414862   \n",
            "14     14          1.302719    1.393873   \n",
            "15     15          1.316865    1.373384   \n",
            "16     16          1.266335    1.356405   \n",
            "17     17          1.246867    1.339993   \n",
            "18     18          1.239746    1.326321   \n",
            "19     19          1.208686    1.313312   \n",
            "20     20          1.207583    1.300192   \n",
            "21     21          1.171116    1.287999   \n",
            "22     22          1.164916    1.276889   \n",
            "23     23          1.177603    1.265405   \n",
            "24     24          1.141783    1.254858   \n",
            "25     25          1.157982    1.243872   \n",
            "26     26          1.146643    1.233580   \n",
            "27     27          1.123940    1.224780   \n",
            "28     28          1.128215    1.215242   \n",
            "29     29          1.112096    1.206110   \n",
            "total users:  610\n",
            "total items:  8998\n",
            "Number of participants in each round: 500/610\n",
            "Embedding size:  100\n",
            "('number of rounds ', 10, '(lr=0.1) ', 20, '(lr=0.01)')\n",
            "Average round time:  10 sec\n",
            "local epochs:  10\n",
            "round\n",
            " Mean_Train_Loss\n",
            " Test_Loss\n",
            " \n"
          ]
        },
        {
          "output_type": "execute_result",
          "data": {
            "text/plain": [
              "<matplotlib.legend.Legend at 0x7f39f0054d10>"
            ]
          },
          "metadata": {},
          "execution_count": 47
        },
        {
          "output_type": "display_data",
          "data": {
            "image/png": "[encoded data removed]",
            "text/plain": [
              "<Figure size 432x288 with 1 Axes>"
            ]
          },
          "metadata": {
            "needs_background": "light"
          }
        }
      ]
    },
    {
      "cell_type": "code",
      "source": [
        "#07 change: participants: 400/610\n",
        "\n",
        "data_results= pd.read_csv(\"results07.csv\")\n",
        "print(\"BaseLine_FedMF\")\n",
        "print(data_results)\n",
        "plt.xlabel('number of rounds')\n",
        "plt.ylabel('RMSE Loss')\n",
        "\n",
        "print(\"total users: \", abs(610))\n",
        "print(\"total items: \", abs(8998))\n",
        "print(\"Number of participants in each round: 400/610\")\n",
        "print(\"Embedding size: \",100)\n",
        "print(('number of rounds ',10,\"(lr=0.1) \",20,\"(lr=0.01)\"))\n",
        "print(\"Average round time: \", 10, \"sec\")\n",
        "print(\"local epochs: \", 10)\n",
        "for x in data_results:\n",
        "    print(x)\n",
        "plt.plot(np.arange(start=1, stop=len(data_results[\" Test_Loss\"].values)+1, step=1), data_results[\" Test_Loss\"].values, 'g--')\n",
        "plt.plot(np.arange(start=1, stop=len(data_results[\" Mean_Train_Loss\"].values)+1, step=1), data_results[\" Mean_Train_Loss\"].values, 'b--')\n",
        "plt.legend([\"Test Loss\", \"Training loss\"])\n"
      ],
      "metadata": {
        "colab": {
          "base_uri": "https://localhost:8080/",
          "height": 1000
        },
        "id": "aqtWqwkO3DM1",
        "outputId": "bc78f80c-42fd-40f9-9baf-dcfd51bec7ca"
      },
      "execution_count": 50,
      "outputs": [
        {
          "output_type": "stream",
          "name": "stdout",
          "text": [
            "BaseLine_FedMF\n",
            "    round   Mean_Train_Loss   Test_Loss   \n",
            "0       0         14.190721   11.515319   \n",
            "1       1         12.421015    9.645365   \n",
            "2       2         10.565081    7.807446   \n",
            "3       3          8.260666    6.086779   \n",
            "4       4          6.299569    4.717350   \n",
            "5       5          4.691924    3.722770   \n",
            "6       6          3.742216    2.972782   \n",
            "7       7          2.951170    2.508446   \n",
            "8       8          2.486451    2.146138   \n",
            "9       9          2.172489    1.875655   \n",
            "10     10          1.875753    1.837980   \n",
            "11     11          1.795323    1.805819   \n",
            "12     12          1.754154    1.771774   \n",
            "13     13          1.721662    1.737742   \n",
            "14     14          1.706809    1.710468   \n",
            "15     15          1.626566    1.683796   \n",
            "16     16          1.611184    1.659436   \n",
            "17     17          1.558503    1.637470   \n",
            "18     18          1.572003    1.613410   \n",
            "19     19          1.537652    1.592669   \n",
            "20     20          1.531330    1.570741   \n",
            "21     21          1.472116    1.550653   \n",
            "22     22          1.465331    1.530928   \n",
            "23     23          1.487176    1.511213   \n",
            "24     24          1.468048    1.492280   \n",
            "25     25          1.427381    1.475706   \n",
            "26     26          1.405356    1.461049   \n",
            "27     27          1.411101    1.446565   \n",
            "28     28          1.374969    1.431207   \n",
            "29     29          1.322177    1.415242   \n",
            "total users:  610\n",
            "total items:  8998\n",
            "Number of participants in each round: 400/610\n",
            "Embedding size:  100\n",
            "('number of rounds ', 10, '(lr=0.1) ', 20, '(lr=0.01)')\n",
            "Average round time:  10 sec\n",
            "local epochs:  10\n",
            "round\n",
            " Mean_Train_Loss\n",
            " Test_Loss\n",
            " \n"
          ]
        },
        {
          "output_type": "execute_result",
          "data": {
            "text/plain": [
              "<matplotlib.legend.Legend at 0x7f39effde890>"
            ]
          },
          "metadata": {},
          "execution_count": 50
        },
        {
          "output_type": "display_data",
          "data": {
            "image/png": "[encoded data removed]",
            "text/plain": [
              "<Figure size 432x288 with 1 Axes>"
            ]
          },
          "metadata": {
            "needs_background": "light"
          }
        }
      ]
    },
    {
      "cell_type": "code",
      "source": [
        "#08 change: participants: 300/610\n",
        "\n",
        "data_results= pd.read_csv(\"results08.csv\")\n",
        "print(\"BaseLine_FedMF\")\n",
        "print(data_results)\n",
        "plt.xlabel('number of rounds')\n",
        "plt.ylabel('RMSE Loss')\n",
        "\n",
        "print(\"total users: \", abs(610))\n",
        "print(\"total items: \", abs(8998))\n",
        "print(\"Number of participants in each round: 300/610\")\n",
        "print(\"Embedding size: \",100)\n",
        "print(('number of rounds ',10,\"(lr=0.1) \",20,\"(lr=0.01)\"))\n",
        "print(\"Average round time: \", 10, \"sec\")\n",
        "print(\"local epochs: \", 10)\n",
        "for x in data_results:\n",
        "    print(x)\n",
        "plt.plot(np.arange(start=1, stop=len(data_results[\" Test_Loss\"].values)+1, step=1), data_results[\" Test_Loss\"].values, 'g--')\n",
        "plt.plot(np.arange(start=1, stop=len(data_results[\" Mean_Train_Loss\"].values)+1, step=1), data_results[\" Mean_Train_Loss\"].values, 'b--')\n",
        "plt.legend([\"Test Loss\", \"Training loss\"])\n"
      ],
      "metadata": {
        "colab": {
          "base_uri": "https://localhost:8080/",
          "height": 1000
        },
        "id": "WmfEKQvx3yoa",
        "outputId": "5e028221-1b16-4f0a-daff-37292d82c9b5"
      },
      "execution_count": 53,
      "outputs": [
        {
          "output_type": "stream",
          "name": "stdout",
          "text": [
            "BaseLine_FedMF\n",
            "    round   Mean_Train_Loss   Test_Loss   \n",
            "0       0         14.200295   12.057037   \n",
            "1       1         12.587936   10.795121   \n",
            "2       2         11.600754    9.495605   \n",
            "3       3         10.221142    8.101760   \n",
            "4       4          8.491266    6.755106   \n",
            "5       5          6.833927    5.680849   \n",
            "6       6          5.842598    4.663367   \n",
            "7       7          4.775233    3.942625   \n",
            "8       8          3.797433    3.356887   \n",
            "9       9          3.330934    2.939638   \n",
            "10     10          2.935829    2.892368   \n",
            "11     11          2.867841    2.837885   \n",
            "12     12          2.738406    2.793444   \n",
            "13     13          2.751998    2.753257   \n",
            "14     14          2.582385    2.711391   \n",
            "15     15          2.734419    2.665765   \n",
            "16     16          2.631017    2.626109   \n",
            "17     17          2.451389    2.586435   \n",
            "18     18          2.507556    2.542711   \n",
            "19     19          2.426481    2.507513   \n",
            "20     20          2.411696    2.468781   \n",
            "21     21          2.370360    2.432016   \n",
            "22     22          2.233456    2.404079   \n",
            "23     23          2.358636    2.366859   \n",
            "24     24          2.193086    2.333313   \n",
            "25     25          2.191460    2.298309   \n",
            "26     26          2.234684    2.261786   \n",
            "27     27          2.144052    2.227801   \n",
            "28     28          2.115826    2.196170   \n",
            "29     29          2.103160    2.165554   \n",
            "total users:  610\n",
            "total items:  8998\n",
            "Number of participants in each round: 300/610\n",
            "Embedding size:  100\n",
            "('number of rounds ', 10, '(lr=0.1) ', 20, '(lr=0.01)')\n",
            "Average round time:  10 sec\n",
            "local epochs:  10\n",
            "round\n",
            " Mean_Train_Loss\n",
            " Test_Loss\n",
            " \n"
          ]
        },
        {
          "output_type": "execute_result",
          "data": {
            "text/plain": [
              "<matplotlib.legend.Legend at 0x7f39eff5c350>"
            ]
          },
          "metadata": {},
          "execution_count": 53
        },
        {
          "output_type": "display_data",
          "data": {
            "image/png": "[encoded data removed]",
            "text/plain": [
              "<Figure size 432x288 with 1 Axes>"
            ]
          },
          "metadata": {
            "needs_background": "light"
          }
        }
      ]
    },
    {
      "cell_type": "code",
      "source": [
        "#09 change: participants: 200/610\n",
        "\n",
        "data_results= pd.read_csv(\"results09.csv\")\n",
        "print(\"BaseLine_FedMF\")\n",
        "print(data_results)\n",
        "plt.xlabel('number of rounds')\n",
        "plt.ylabel('RMSE Loss')\n",
        "\n",
        "print(\"total users: \", abs(610))\n",
        "print(\"total items: \", abs(8998))\n",
        "print(\"Number of participants in each round: 200/610\")\n",
        "print(\"Embedding size: \",100)\n",
        "print(('number of rounds ',10,\"(lr=0.1) \",20,\"(lr=0.01)\"))\n",
        "print(\"Average round time: \", 10, \"sec\")\n",
        "print(\"local epochs: \", 10)\n",
        "for x in data_results:\n",
        "    print(x)\n",
        "plt.plot(np.arange(start=1, stop=len(data_results[\" Test_Loss\"].values)+1, step=1), data_results[\" Test_Loss\"].values, 'g--')\n",
        "plt.plot(np.arange(start=1, stop=len(data_results[\" Mean_Train_Loss\"].values)+1, step=1), data_results[\" Mean_Train_Loss\"].values, 'b--')\n",
        "plt.legend([\"Test Loss\", \"Training loss\"])\n"
      ],
      "metadata": {
        "colab": {
          "base_uri": "https://localhost:8080/",
          "height": 1000
        },
        "id": "pfPquzxp4XN_",
        "outputId": "9ea34c49-8166-4499-e613-71aecfd4a8d1"
      },
      "execution_count": 56,
      "outputs": [
        {
          "output_type": "stream",
          "name": "stdout",
          "text": [
            "BaseLine_FedMF\n",
            "    round   Mean_Train_Loss   Test_Loss   \n",
            "0       0         14.111151   12.343469   \n",
            "1       1         13.176096   11.448244   \n",
            "2       2         12.878497   10.612803   \n",
            "3       3         11.312988    9.714868   \n",
            "4       4         10.451937    8.821908   \n",
            "5       5          9.320662    7.963192   \n",
            "6       6          8.194125    7.249868   \n",
            "7       7          6.970782    6.527390   \n",
            "8       8          7.078680    5.818114   \n",
            "9       9          6.386609    5.108610   \n",
            "10     10          5.019717    5.047180   \n",
            "11     11          4.912569    4.983529   \n",
            "12     12          5.015957    4.926652   \n",
            "13     13          4.764688    4.855974   \n",
            "14     14          4.910641    4.796519   \n",
            "15     15          4.671188    4.743320   \n",
            "16     16          4.694472    4.682473   \n",
            "17     17          4.862976    4.618000   \n",
            "18     18          4.492066    4.567766   \n",
            "19     19          4.564448    4.513968   \n",
            "20     20          4.427496    4.458154   \n",
            "21     21          4.548068    4.404813   \n",
            "22     22          4.297201    4.351038   \n",
            "23     23          4.251621    4.302355   \n",
            "24     24          4.426816    4.248318   \n",
            "25     25          4.254935    4.196988   \n",
            "26     26          4.374638    4.138651   \n",
            "27     27          4.235449    4.083186   \n",
            "28     28          4.254014    4.031634   \n",
            "29     29          4.029744    3.989235   \n",
            "total users:  610\n",
            "total items:  8998\n",
            "Number of participants in each round: 200/610\n",
            "Embedding size:  100\n",
            "('number of rounds ', 10, '(lr=0.1) ', 20, '(lr=0.01)')\n",
            "Average round time:  10 sec\n",
            "local epochs:  10\n",
            "round\n",
            " Mean_Train_Loss\n",
            " Test_Loss\n",
            " \n"
          ]
        },
        {
          "output_type": "execute_result",
          "data": {
            "text/plain": [
              "<matplotlib.legend.Legend at 0x7f39efedd550>"
            ]
          },
          "metadata": {},
          "execution_count": 56
        },
        {
          "output_type": "display_data",
          "data": {
            "image/png": "[encoded data removed]",
            "text/plain": [
              "<Figure size 432x288 with 1 Axes>"
            ]
          },
          "metadata": {
            "needs_background": "light"
          }
        }
      ]
    },
    {
      "cell_type": "code",
      "source": [
        ""
      ],
      "metadata": {
        "id": "zMBL5G8o44R9"
      },
      "execution_count": null,
      "outputs": []
    }
  ]
}